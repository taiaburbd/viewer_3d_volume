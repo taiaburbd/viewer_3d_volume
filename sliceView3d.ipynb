{
 "cells": [
  {
   "cell_type": "markdown",
   "metadata": {},
   "source": [
    "Install the required Python packages using pip:\n"
   ]
  },
  {
   "cell_type": "code",
   "execution_count": null,
   "metadata": {},
   "outputs": [],
   "source": [
    "!pip install ipywidgets ipyvolume matplotlib\n"
   ]
  },
  {
   "cell_type": "code",
   "execution_count": null,
   "metadata": {},
   "outputs": [],
   "source": [
    "import nibabel as nib\n",
    "import numpy as np\n",
    "import matplotlib.pyplot as plt\n",
    "import ipywidgets as widgets\n",
    "from IPython.display import display\n",
    "\n",
    "# Load the NIfTI file\n",
    "nifti_path = '_.nii.gz'\n",
    "org_nifti_path = '_0000.nii.gz'\n",
    "img = nib.load(nifti_path)\n",
    "data = img.get_fdata()\n",
    "\n",
    "org_img = nib.load(org_nifti_path).get_fdata()\n",
    "\n",
    "data = org_img * data\n",
    "# Adjusted function to display a slice and its histogram\n",
    "def display_slice_and_histogram(slice_no):\n",
    "    # Setup the figure and axes for a side-by-side plot: slice and histogram\n",
    "    fig, axes = plt.subplots(2, 2, figsize=(16, 8))\n",
    "    \n",
    "    # Display the slice\n",
    "    ax = axes[0,0]\n",
    "    ax.imshow(data[:, :, slice_no], cmap='gray')\n",
    "    ax.axis('off')  # Hide axes ticks\n",
    "    ax.set_title(f'Slice {slice_no}')\n",
    "    \n",
    "    # Display the histogram\n",
    "    ax = axes[0,1]\n",
    "    slice_data = data[:, :, slice_no].ravel()\n",
    "    ax.hist(slice_data, bins=50, color='c', alpha=0.75)\n",
    "    ax.set_title('Pixel Intensity Distribution')\n",
    "    ax.grid(True)\n",
    "\n",
    "    ax = axes[1,0]\n",
    "    ax.imshow(data[:, slice_no,: ], cmap='gray')\n",
    "    ax.axis('off')  # Hide axes ticks\n",
    "    ax.set_title(f'Slice {slice_no}')\n",
    "\n",
    "    ax = axes[1,1]\n",
    "    ax.imshow(data[slice_no, :,: ], cmap='gray')\n",
    "    ax.axis('off')  # Hide axes ticks\n",
    "    ax.set_title(f'Slice {slice_no}')\n",
    "    \n",
    "    plt.tight_layout()\n",
    "    plt.show()\n",
    "\n",
    "# Interactive widget for slice selection\n",
    "slice_slider = widgets.IntSlider(\n",
    "    min=0, \n",
    "    max=data.shape[2] - 1, \n",
    "    step=1, \n",
    "    value=data.shape[2] // 2, \n",
    "    description='Slice'\n",
    ")\n",
    "\n",
    "widgets.interactive(display_slice_and_histogram, slice_no=slice_slider)\n"
   ]
  }
 ],
 "metadata": {
  "kernelspec": {
   "display_name": "env_tf",
   "language": "python",
   "name": "python3"
  },
  "language_info": {
   "codemirror_mode": {
    "name": "ipython",
    "version": 3
   },
   "file_extension": ".py",
   "mimetype": "text/x-python",
   "name": "python",
   "nbconvert_exporter": "python",
   "pygments_lexer": "ipython3",
   "version": "3.10.13"
  }
 },
 "nbformat": 4,
 "nbformat_minor": 2
}
